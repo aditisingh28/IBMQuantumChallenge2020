{
 "cells": [
  {
   "cell_type": "code",
   "execution_count": null,
   "metadata": {},
   "outputs": [],
   "source": [
    "from IPython.display import Image, display\n",
    "Image(\"ryoko.png\", width=\"70\")"
   ]
  },
  {
   "cell_type": "markdown",
   "metadata": {},
   "source": [
    "# Message from Dr. Ryoko\n",
    "\"*Hi! I hope you now understand how the Lights Out puzzle works.<br/>The floor of the room I must cross has 3 x 3 tiles. Each tile is made of a single qubit.<br/>\n",
    "Some of these qubits fluctuate between the ground state and the excited state. <br/> I have been observing their behavior and noticed that there is a pattern - the floor can only be in either one of the four patterns as shown in each of the examples below. <br/>\n",
    "Due to decoherence, there is not enough time to play around with the switches.<br/> You need to find out which board can be cleared with three switch operations. Good luck!*\"<br/>"
   ]
  },
  {
   "cell_type": "markdown",
   "metadata": {},
   "source": [
    "# Week2-B: Four-Lights Out\n",
    "In this problem, we are dealing with multiple binary data at the same time. \n",
    "We have to determine if each of the given four Lights Out boards are solvable under the given constraints, so let's devise a quantum circuit to solve them all at the same time.\n",
    "\n",
    "As an example, let's consider how to find a board that can be cleared with just a single switch operation from the 4 boards given below. The initial state of the 4 boards is given in the following two-dimensional array, where \"0\" and \"1\" represent \"off\" and \"on\" respectively similar to the previous learning problem:\n",
    "\n",
    "lightsout4_ex=\\[\\[Board 0\\],\\[Board 1\\],\\[Board 2\\],\\[Board 3\\]\\]"
   ]
  },
  {
   "cell_type": "code",
   "execution_count": null,
   "metadata": {},
   "outputs": [],
   "source": [
    "from IPython.display import Image, display\n",
    "Image('4lightsout_ex.png')"
   ]
  },
  {
   "cell_type": "markdown",
   "metadata": {},
   "source": [
    "## Answer Strategy\n",
    "If only one board is given, this is a decision problem.\n",
    "Using the algorithm from the first Lights Out puzzle (2A), you can solve this problem by counting the \"1\"s in the output.\n",
    " \n",
    "If we are given multiple boards, there will be several approaches.\n",
    "1. Iterate the same \"one board algorithm\" for each board.\n",
    "2. Hold information for multiple boards at the same time and solve the problems in a single run (execute the algorithm once). \n",
    "- For the rest of this document, we discuss how to use the latter approach to solve this type of problem.\n",
    "\n",
    "First, how do we keep data for all the boards at the same time?\n",
    "1. Naive data structures:　　9 Qubits/board * 4 boards > 32 qubits (Upper limit of ibm_qasm_simulator).\n",
    "2. Prepare the  superposition state:   $\\vert Board 0\\rangle + \\vert Board 1\\rangle + \\vert Board 2\\rangle + \\vert Board 3\\rangle$.\n",
    "    - The circuit configuration used for state generation is non-trivial.\n",
    "3. *qRAM* is known as one solution. \n",
    "    - **Pros**: Intuitive implementation. \n",
    "    - **Cons**: Computationally expensive. \n",
    "\n",
    "Of course you can devise and adopt other smart ways to do this.\n",
    "\n",
    "Here, we will focus on *qRAM* and describe its configuration and implementation."
   ]
  },
  {
   "cell_type": "code",
   "execution_count": null,
   "metadata": {},
   "outputs": [],
   "source": [
    "from qiskit import *\n",
    "from qiskit import QuantumRegister, ClassicalRegister, QuantumCircuit\n",
    "from qiskit import IBMQ, Aer, execute\n",
    "provider = IBMQ.load_account()"
   ]
  },
  {
   "cell_type": "markdown",
   "metadata": {},
   "source": [
    "## qRAM: Quantum Random Access Memory\n",
    "\n",
    "In classical computers, RAM (Random Access Memory) is a type of volatile memory that has memory addresses $j$ and stores binary data corresponding to each address $D_j$.\n",
    "\n",
    "In the case of [qRAM](https://arxiv.org/abs/0708.1879) in a quantum computer, **address qubits $a$** have the $N$-addresses as superposition and the corresponding binary data is stored in **data qubits $d$** as a state vector.\n",
    "\\\\[\n",
    "\\sum_{j}\\frac{1}{\\sqrt{N}}\\vert j \\rangle_{a}\\vert 0 \\rangle_{d}\\xrightarrow{qRAM}\\sum_{j}\\frac{1}{\\sqrt{N}}\\vert j \\rangle_{a}\\vert D_{j} \\rangle_{d}\n",
    "\\\\]　　\n",
    "We call the right-hand side state \"qRAM\" and the corresponding gate operation \"qRAM operation\".\n",
    "\n",
    "Although qRAM operation requires $\\mathcal{O}(N\\log N)$ gates, it can be used to create superposition states of binary data intuitively.  \n",
    "\n",
    "qRAM has previously been applied to various quantum machine learning algorithms such as the HHL algorithm. For this problem, let's apply qRAM to Grover's algorithm."
   ]
  },
  {
   "cell_type": "markdown",
   "metadata": {},
   "source": [
    "## Example: Find the data from qRAM\n",
    "Prepare a qRAM of $n$-addresses in which the numbers $k_0, k_1, .. , k_{n-1}$ are stored in this order.  \n",
    "Find the address in which the number $m$ is stored using Grover's algorithm.  \n",
    "- $n = 4$\n",
    "- $k = [1,2,5,7]$\n",
    "- $m = 7$\n",
    "\n",
    "### qRAM operation.\n",
    "Here we show a circuit example of qRAM."
   ]
  },
  {
   "cell_type": "code",
   "execution_count": null,
   "metadata": {},
   "outputs": [],
   "source": [
    "address = QuantumRegister(2,name=\"add\")\n",
    "data = QuantumRegister(3,name=\"data\")\n",
    "oracle = QuantumRegister(1,name=\"o\")\n",
    "ancilla = QuantumRegister(1,name=\"ancilla\")\n",
    "c = ClassicalRegister(2)\n",
    "qc = QuantumCircuit(address,data,oracle,ancilla,c)\n",
    "\n",
    "# address preparation\n",
    "qc.h([address[0],address[1]])\n",
    "qc.barrier()\n",
    "# prepare oracle\n",
    "qc.x(oracle[0])\n",
    "\n",
    "\"\"\"QRAM\"\"\"\n",
    "def prepare_addresses():\n",
    "    # address 0 -> data = 2\n",
    "    qc.x([address[0],address[1]])\n",
    "    qc.ccx(address[0],address[1],data[1])\n",
    "    qc.x([address[0],address[1]])\n",
    "    qc.barrier()\n",
    "    # address 1 -> data = 7\n",
    "    qc.x(address[0])\n",
    "    qc.ccx(address[0],address[1],data[2])\n",
    "    qc.ccx(address[0],address[1],data[1])\n",
    "    qc.ccx(address[0],address[1],data[0])\n",
    "    qc.x(address[0])\n",
    "    qc.barrier()\n",
    "    # address 2 -> data = 1\n",
    "    qc.x(address[1])\n",
    "    qc.ccx(address[0],address[1],data[2])\n",
    "    qc.x(address[1])\n",
    "    qc.barrier()\n",
    "    # address 3 -> data = 5\n",
    "    qc.ccx(address[0],address[1],data[2])\n",
    "    qc.ccx(address[0],address[1],data[0])\n",
    "    qc.barrier()\n",
    "\n",
    "def diffuse():\n",
    "    # Apply transformation |s> -> |00..0> (H-gates)\n",
    "    qc.h(address)\n",
    "    # Apply transformation |00..0> -> |11..1> (X-gates)\n",
    "    qc.x(address)\n",
    "    # Do multi-controlled-Z gate\n",
    "    qc.h(address[-1])\n",
    "    qc.mct(address[:-1], address[-1], ancilla, mode=\"basic\")  # multi-controlled-toffoli\n",
    "    qc.h(address[-1])\n",
    "    # Apply transformation |11..1> -> |00..0>\n",
    "    qc.x(address)\n",
    "    # Apply transformation |00..0> -> |s>\n",
    "    qc.h(address)\n",
    "\n",
    "# init qram\n",
    "prepare_addresses()\n",
    "# mark the state m\n",
    "qc.h(oracle[0])\n",
    "qc.mct(data, oracle, ancilla, mode=\"basic\")\n",
    "qc.h(oracle[0])\n",
    "# undo the qram\n",
    "prepare_addresses()\n",
    "# diffuse\n",
    "diffuse()\n",
    "\n",
    "#Check the result\n",
    "qc.measure(address[0:2], c[0:2])\n",
    " \n",
    "# Reverse the output string.\n",
    "# address[0] is measured in c0, so it's the LSB\n",
    "# with reverse, it ends up in the right as expected (where the LSB should be)\n",
    "qc = qc.reverse_bits()\n",
    "\n",
    "#backend = provider.get_backend('ibmq_qasm_simulator')\n",
    "backend = Aer.get_backend('qasm_simulator')\n",
    "job = execute(qc, backend=backend, shots=8000, seed_simulator=12345, backend_options={\"fusion_enable\":True})\n",
    "#job = execute(qc, backend=backend, shots=8192)\n",
    "result = job.result()\n",
    "count =result.get_counts()\n",
    "print(count)\n",
    "\n",
    "qc.draw(output='mpl')"
   ]
  },
  {
   "cell_type": "markdown",
   "metadata": {},
   "source": [
    "### qRAM Data Search\n",
    "To perform Grover's algorithm, we invert the sign of the **address qubit** containing $m$. We also need to initialize the **data qubit** by another qRAM operation before the Diffusion operation,\n",
    "\n",
    "\\begin{align*}\n",
    "\\vert j \\rangle_{a}\\vert D_{j} \\rangle_{d} \\vert - \\rangle_{f}\n",
    "\\xrightarrow{oracle}  \n",
    "\\left \\{\n",
    " \\begin{array}{l}\n",
    "-\\vert j \\rangle_{a}\\vert D_{j} \\rangle_{d} \\vert - \\rangle_{f},  D_{j} = m\\\\\n",
    "\\vert j \\rangle_{a}\\vert D_{j} \\rangle_{d} \\vert - \\rangle_{f},  D_{j}  \\neq m\n",
    " \\end{array}\n",
    " \\right.\n",
    " \\xrightarrow{qRAM}\n",
    "\\left \\{\n",
    " \\begin{array}{l}\n",
    "-\\vert j \\rangle_{a}\\vert 0 \\rangle_{d}\\vert - \\rangle_{f},  D_{j} = m \\\\\n",
    "\\vert j \\rangle_{a}\\vert 0 \\rangle_{d}\\vert - \\rangle_{f},　D_{j}\\neq m\n",
    " \\end{array}\n",
    " \\right.\n",
    " \\end{align*}\n",
    " \n",
    "where $f$ denotes the flag qubit.  \n",
    "\n",
    "In this case, we can configure an oracle operation using the [C3X gate](https://qiskit.org/documentation/stubs/qiskit.circuit.library.C3XGate.html#qiskit.circuit.library.C3XGate) . \n",
    "\n",
    "Here, we show the whole circuit for our [qRAM example](#qRAM-Example:-Find-the-data-from-qRAM)."
   ]
  },
  {
   "cell_type": "code",
   "execution_count": null,
   "metadata": {},
   "outputs": [],
   "source": [
    "Image('circuit_ex.png')"
   ]
  },
  {
   "cell_type": "markdown",
   "metadata": {},
   "source": [
    "### Considerations for qRAM implementation\n",
    "In the above description we have introduced a naive *qRAM operation* circuit.\n",
    "Depending on the data structure, we can simplify the circuit by using **gate synthesis** (equivalence transformation) techniques.\n",
    "Also, some simplified gates, e.g. [RCCX](https://qiskit.org/documentation/stubs/qiskit.circuit.library.RCCXGate.html#qiskit.circuit.library.RCCXGate), may help improve your *CNOT*-saving implementation.\n",
    "\n",
    "An example of gate synthesis is shown below."
   ]
  },
  {
   "cell_type": "code",
   "execution_count": null,
   "metadata": {},
   "outputs": [],
   "source": [
    "Image('gatesynthesis_ex.png')"
   ]
  },
  {
   "cell_type": "markdown",
   "metadata": {},
   "source": [
    "## Learning Exercise II-B\n",
    "Let's solve a 4-Lights Out problem with qRAM.  \n",
    "\n",
    "When the initial board state lightsout4=\\[\\[Board 0\\],\\[Board 1\\],\\[Board 2\\],\\[Board 3\\]\\] is described by the following data, \n",
    "determine the _binary_ number of the solvable boards in $3$ switch operations.  (ex. Board 0 → 00, 1 → 01, 2 → 10, 3 → 11)\n",
    "\n",
    "Answer by creating a quantum circuit to solve the puzzle shown in the figure below. In the quantum circuit to be submitted, measure only the `solution` (2bit) that solves the puzzle.\n",
    "\n",
    "To submit your solution, create a function which takes \"lightsout4\" as an input and returns `QuantumCircuit`.  You can choose a function name you like. Make sure it works even if you input another dataset to \"lightsout4\".\n",
    "\n",
    " **In addition, please implement the quantum circuit within 28 qubits.**\n",
    "\n",
    "Please note that you can get the answer with the same endian as the one used in the description. You can also use the following function.\n",
    "```python\n",
    "qc = qc.reverse_bits()\n",
    "```"
   ]
  },
  {
   "cell_type": "code",
   "execution_count": null,
   "metadata": {},
   "outputs": [],
   "source": [
    "Image('4lightsout_pr.png')"
   ]
  },
  {
   "cell_type": "code",
   "execution_count": null,
   "metadata": {},
   "outputs": [],
   "source": [
    "lightsout4=[[1, 1, 1, 0, 0, 0, 1, 0, 0],[1, 0, 1, 0, 0, 0, 1, 1, 0],[1, 0, 1, 1, 1, 1, 0, 0, 1],[1, 0, 0, 0, 0, 0, 1, 0, 0]]"
   ]
  },
  {
   "cell_type": "markdown",
   "metadata": {},
   "source": [
    "### Hints\n",
    "- Change the oracle of [qRAM data search](#qRAM-Data-search) to an appropriate one.\n",
    "- Data storing/writing in *QRAM operation* can be performed in any order. We can reduce the number of gates by taking into account the _hamming distance_ of the address and input data."
   ]
  },
  {
   "cell_type": "code",
   "execution_count": 2,
   "metadata": {},
   "outputs": [],
   "source": [
    "# Common Helpers\n",
    "from qiskit import QuantumCircuit, ClassicalRegister, QuantumRegister\n",
    "\n",
    "def gatifier(circuit):\n",
    "    \"\"\"\n",
    "    Builds a gate compatible circuit unrolling the input into u3,cx\n",
    "\n",
    "    Args\n",
    "    --------------------\n",
    "    circuit: circuit to turn into a gate\n",
    "    \"\"\"\n",
    "    # Build a new compatible circuit\n",
    "    from qiskit.transpiler import PassManager\n",
    "    from qiskit.transpiler.passes import Unroller\n",
    "    pass_ = Unroller(['u3', 'cx'])\n",
    "    pm = PassManager(pass_)\n",
    "    gate_circuit = pm.run(circuit)\n",
    "    # turn the new circuit into a gate\n",
    "    gate_circuit.to_gate()\n",
    "    return gate_circuit\n",
    "\n",
    "def diffuser(qbits, ancilla_amount=0):\n",
    "    \"\"\"\n",
    "    Creates a gate that performs a diffusion algorithm to the given qubits.\n",
    "    The input is expected as: 9 qubits to diffuse, ancilla_amount qubits\n",
    "\n",
    "    Args\n",
    "    --------------------\n",
    "    qbits: the amount of qbits to diffuse\n",
    "    ancilla_amount: the amount of ancilla qubits to use by the MCT with mode=basic\n",
    "    \"\"\"\n",
    "    qc = QuantumCircuit(qbits + ancilla_amount, name=\"diffuser\")\n",
    "    qlist = [i for i in range(0,qbits)]\n",
    "    ancilla = [i for i in range(qbits, qbits+ancilla_amount)]\n",
    "    # Apply transformation |s> -> |00..0> (H-gates)\n",
    "    qc.h(qlist)\n",
    "    # Apply transformation |00..0> -> |11..1> (X-gates)\n",
    "    qc.x(qlist)\n",
    "    # Do multi-controlled-Z gate\n",
    "    qc.h(qlist[-1])\n",
    "    if ancilla_amount != 0:\n",
    "        qc.mct(qlist[:-1], qlist[-1], ancilla, mode=\"basic\")  # multi-controlled-toffoli\n",
    "    else:\n",
    "        qc.mct(qlist[:-1], qlist[-1])\n",
    "    qc.h(qlist[-1])\n",
    "    # Apply transformation |11..1> -> |00..0>\n",
    "    qc.x(qlist)\n",
    "    # Apply transformation |00..0> -> |s>\n",
    "    qc.h(qlist)\n",
    "    qc.to_gate()\n",
    "    return qc"
   ]
  },
  {
   "cell_type": "code",
   "execution_count": 3,
   "metadata": {},
   "outputs": [],
   "source": [
    "# Helper from 2a\n",
    "\n",
    "def lights_out_player():\n",
    "    \"\"\"\n",
    "    Creates a gate that applies 9 bit operations to 9 bit boards.\n",
    "    Qubits are expected as: 9 operations, 9 board\n",
    "    \"\"\"\n",
    "    from qiskit.circuit.library import CXGate\n",
    "    # 9 operations, 9 board\n",
    "    qc = QuantumCircuit(9+9, name=\"player\")\n",
    "    # apply operations to the board\n",
    "    qc.mcmt(CXGate(),0,[9,10,12]) #0,1,3\n",
    "    qc.mcmt(CXGate(),1,[9,10,11,13]) #0,1,2,4\n",
    "    qc.mcmt(CXGate(),2,[10,11,14])#1,2,5\n",
    "    qc.mcmt(CXGate(),3,[9,12,13,15])#0,3,4,6\n",
    "    qc.mcmt(CXGate(),4,[10,12,13,14,16])#1,3,4,5,7\n",
    "    qc.mcmt(CXGate(),5,[11,13,14,17])#2,4,5,8\n",
    "    qc.mcmt(CXGate(),6,[12,15,16])#3,6,7\n",
    "    qc.mcmt(CXGate(),7,[13,15,16,17])#4,6,7,8\n",
    "    qc.mcmt(CXGate(),8,[14,16,17])#5,7,8\n",
    "    # Return a new compatible circuit\n",
    "    return gatifier(qc)\n",
    "\n",
    "def week2a(iterations=17, as_gate=True):\n",
    "    \"\"\"\n",
    "    Create a circuit/gate that given a set of operations and a board, amplifies\n",
    "    the probability of the state (pair board+operation) that is a solution.\n",
    "    Qubits are expected as:\n",
    "        * 9 operations = mustcontain the possible operations to apply to the board\n",
    "        * 9 board = the initialized borads. This has to turn |0> for the operation to be the solution\n",
    "        * 1 oracle = oracle to flip the phase. It must be received  in |0>\n",
    "\n",
    "    Args\n",
    "    --------------------\n",
    "    iterations: the amount of iterations to perform with Grover's. 17 is the ideal\n",
    "    as_gate: True if the circuit should be returned as a gate, False if not\n",
    "    \"\"\"\n",
    "    # registers DB\n",
    "    operations = [i for i in range(0,9)]\n",
    "    board = [i for i in range(9,18)]\n",
    "    oracle = [18]\n",
    "    qc = QuantumCircuit(\n",
    "        QuantumRegister(9,name=\"ops\"),\n",
    "        QuantumRegister(9,name=\"board\"),\n",
    "        QuantumRegister(1,name=\"ora\"), name=\"U_2A\")\n",
    "\n",
    "    # init oracle in state |1> \n",
    "    qc.x(oracle[0])\n",
    "\n",
    "    # Grovers Algorithm\n",
    "    # Ideal iterations is 17\n",
    "    for j in range(iterations):\n",
    "        \"\"\" ORACLE \"\"\"\n",
    "        # Mark the correct state\n",
    "        qc.append(lights_out_player(), operations+board)\n",
    "        # Use the oracle to flip board 000000000\n",
    "        qc.x(board)\n",
    "        qc.h(oracle)\n",
    "        qc.mct(board, oracle) \n",
    "        qc.h(oracle)\n",
    "        qc.x(board)\n",
    "        # restore auxiliary qubits with uncomputation\n",
    "        qc.append(lights_out_player(), operations+board)\n",
    "\n",
    "        \"\"\" DIFFUSER \"\"\"\n",
    "        qc.append( diffuser(9), operations )\n",
    "\n",
    "    # turn into a gate\n",
    "    return gatifier(qc) if as_gate else qc"
   ]
  },
  {
   "cell_type": "code",
   "execution_count": 4,
   "metadata": {},
   "outputs": [],
   "source": [
    "# Helpers for 2b\n",
    "\n",
    "def one_counter():\n",
    "    \"\"\"\n",
    "    Counts the amount of ones in a 9 qubit register.\n",
    "    Qubits are expected as: 9 input, 4 output.\n",
    "    The result is in the shape:\n",
    "        count[4] ... count[0]\n",
    "          LSB    ...   MSB\n",
    "    i.e. 4 = '0010'\n",
    "    \"\"\"\n",
    "    qc = QuantumCircuit(9+4,name=\"counter\")\n",
    "    # create dbs\n",
    "    q = [0,1,2,3,4,5,6,7,8]\n",
    "    count = [9,10,11,12]\n",
    "    for i in range(9):\n",
    "        qc.mct([q[i],count[1],count[2],count[3]],count[0])\n",
    "        qc.mct([q[i],count[2],count[3]],count[1])\n",
    "        qc.ccx(q[i],count[3],count[2])\n",
    "        qc.cx(q[i],count[3])\n",
    "    qc.to_gate()\n",
    "    # the result is in the shape\n",
    "    # count[4] ... count[0]\n",
    "    #  lsb     ...  msb\n",
    "    # i.e. 4 = '0010'\n",
    "    return qc\n",
    "\n",
    "def set_boards(state0):\n",
    "    \"\"\"\n",
    "    Assigns 4 boards in state0 to registers matching their address.\n",
    "    state[0] is assigned to address 0, state[1] to address 1, etc.\n",
    "    Qubits are expected as: 2 address, 9 board\n",
    "\n",
    "    Args\n",
    "    --------------------\n",
    "    state0: list with 4 states. Each state is a least of 9 bits.\n",
    "    \"\"\"\n",
    "    def set_state(circuit, state, address, board):\n",
    "        # init board\n",
    "        for i,x in enumerate(state):\n",
    "            if x:\n",
    "                circuit.ccx(address[0],address[1],board[i])\n",
    "    qc = QuantumCircuit(2+9, name=\"init_boards\")\n",
    "    address = [0,1]\n",
    "    board = [2,3,4,5,6,7,8,9,10]\n",
    "    # init all boards in the respective addresses:\n",
    "    # address 0 -> board = state0[0]\n",
    "    qc.x([address[0],address[1]])\n",
    "    set_state(qc, state0[0], address, board)\n",
    "    qc.x([address[0],address[1]])\n",
    "    # address 1 -> board = state0[1]\n",
    "    qc.x(address[0])\n",
    "    set_state(qc, state0[1], address, board)\n",
    "    qc.x(address[0])\n",
    "    # address 2 -> board = state0[2]\n",
    "    qc.x(address[1])\n",
    "    set_state(qc, state0[2], address, board)\n",
    "    qc.x(address[1])\n",
    "    # address 3 -> board = state0[3]\n",
    "    set_state(qc, state0[3], address, board)\n",
    "    qc.to_gate()\n",
    "    return qc"
   ]
  },
  {
   "cell_type": "code",
   "execution_count": 5,
   "metadata": {},
   "outputs": [],
   "source": [
    "def week2b_ans_func(lightout4, reverse=True):\n",
    "    # the db is as follows:\n",
    "    address = [0,1]\n",
    "    oracle = [2]\n",
    "    board = [3,4,5,6,7,8,9,10,11]\n",
    "    operations = [12,13,14,15,16,17,18,19,20]\n",
    "    count = [21,22,23,24]\n",
    "    oracle_2a = [25]\n",
    "    # classical_amount = 2+4+9+9\n",
    "    classical_amount=2\n",
    "    qc = QuantumCircuit(\n",
    "        QuantumRegister(2,name=\"address\"),\n",
    "        QuantumRegister(1,name=\"oracle\"),\n",
    "        QuantumRegister(9,name=\"board\"),\n",
    "        QuantumRegister(9,name=\"ops\"),\n",
    "        QuantumRegister(4,name=\"count\"),\n",
    "        QuantumRegister(1,name=\"oracle_2a\"),\n",
    "        ClassicalRegister(classical_amount))\n",
    "\n",
    "    # prepare addresses and oracle\n",
    "    qc.h(address)\n",
    "    qc.x(oracle)\n",
    "\n",
    "    \"\"\" Init QRAM \"\"\"\n",
    "    # assign a board to each address\n",
    "    qc.append( set_boards(lightout4), address + board )\n",
    "    # load all operations\n",
    "    qc.h(operations)\n",
    "\n",
    "    \"\"\" Apply U_2A to find the solution to each board \"\"\"\n",
    "    qc.append(week2a(as_gate=True), operations+board+oracle_2a)\n",
    "\n",
    "    \"\"\" 2B ORACLE \"\"\"\n",
    "    # Count the amount of ones in each operation\n",
    "    qc.append(one_counter(), operations + count)\n",
    "    # flip the phase\n",
    "    qc.x([ count[0], count[1] ])\n",
    "    qc.h(oracle[0])\n",
    "    qc.mct(count, oracle[0])\n",
    "    qc.h(oracle[0])\n",
    "    qc.x([ count[0], count[1] ])\n",
    "    # undo count\n",
    "    qc.append(one_counter().inverse(), operations + count)\n",
    "\n",
    "\n",
    "    \"\"\" Undo U_2A \"\"\"\n",
    "    qc.append(week2a(as_gate=True).inverse(), operations+board+oracle_2a)\n",
    "\n",
    "    # \"\"\" Undo QRAM \"\"\"\n",
    "    qc.append( set_boards(lightout4).inverse(), address + board )\n",
    "\n",
    "    # # diffuse\n",
    "    qc.append(diffuser(2), address)\n",
    "\n",
    "\n",
    "    # measure addresses\n",
    "    # qc.measure(board + operations + count + oracle + address, [i for i in range(classical_amount)])\n",
    "    # qc.measure(board + operations + count + address, [i for i in range(classical_amount)])\n",
    "    qc.measure(address, [0,1])\n",
    "     \n",
    "    # Reverse the output string.\n",
    "    qc = qc.reverse_bits() if reverse else qc\n",
    "    return qc"
   ]
  },
  {
   "cell_type": "code",
   "execution_count": null,
   "metadata": {
    "scrolled": true
   },
   "outputs": [
    {
     "name": "stderr",
     "output_type": "stream",
     "text": [
      "/opt/conda/lib/python3.7/site-packages/qiskit/providers/ibmq/ibmqfactory.py:192: UserWarning: Timestamps in IBMQ backend properties, jobs, and job results are all now in local time instead of UTC.\n",
      "  warnings.warn('Timestamps in IBMQ backend properties, jobs, and job results '\n",
      "/opt/conda/lib/python3.7/site-packages/ipykernel_launcher.py:12: DeprecationWarning: The multi-control multi-target gate has moved to the circuit library as of 0.14.0 and will not be useable as circuit method anymore. This method will be removed no earlier than 3 months after the release date. You should create the qiskit.circuit.library.MCMT or MCMTVChain circuits and add then to your circuit using append, extend, or compose.\n",
      "  if sys.path[0] == '':\n",
      "/opt/conda/lib/python3.7/site-packages/ipykernel_launcher.py:13: DeprecationWarning: The multi-control multi-target gate has moved to the circuit library as of 0.14.0 and will not be useable as circuit method anymore. This method will be removed no earlier than 3 months after the release date. You should create the qiskit.circuit.library.MCMT or MCMTVChain circuits and add then to your circuit using append, extend, or compose.\n",
      "  del sys.path[0]\n",
      "/opt/conda/lib/python3.7/site-packages/ipykernel_launcher.py:14: DeprecationWarning: The multi-control multi-target gate has moved to the circuit library as of 0.14.0 and will not be useable as circuit method anymore. This method will be removed no earlier than 3 months after the release date. You should create the qiskit.circuit.library.MCMT or MCMTVChain circuits and add then to your circuit using append, extend, or compose.\n",
      "  \n",
      "/opt/conda/lib/python3.7/site-packages/ipykernel_launcher.py:15: DeprecationWarning: The multi-control multi-target gate has moved to the circuit library as of 0.14.0 and will not be useable as circuit method anymore. This method will be removed no earlier than 3 months after the release date. You should create the qiskit.circuit.library.MCMT or MCMTVChain circuits and add then to your circuit using append, extend, or compose.\n",
      "  from ipykernel import kernelapp as app\n",
      "/opt/conda/lib/python3.7/site-packages/ipykernel_launcher.py:16: DeprecationWarning: The multi-control multi-target gate has moved to the circuit library as of 0.14.0 and will not be useable as circuit method anymore. This method will be removed no earlier than 3 months after the release date. You should create the qiskit.circuit.library.MCMT or MCMTVChain circuits and add then to your circuit using append, extend, or compose.\n",
      "  app.launch_new_instance()\n",
      "/opt/conda/lib/python3.7/site-packages/ipykernel_launcher.py:17: DeprecationWarning: The multi-control multi-target gate has moved to the circuit library as of 0.14.0 and will not be useable as circuit method anymore. This method will be removed no earlier than 3 months after the release date. You should create the qiskit.circuit.library.MCMT or MCMTVChain circuits and add then to your circuit using append, extend, or compose.\n",
      "/opt/conda/lib/python3.7/site-packages/ipykernel_launcher.py:18: DeprecationWarning: The multi-control multi-target gate has moved to the circuit library as of 0.14.0 and will not be useable as circuit method anymore. This method will be removed no earlier than 3 months after the release date. You should create the qiskit.circuit.library.MCMT or MCMTVChain circuits and add then to your circuit using append, extend, or compose.\n",
      "/opt/conda/lib/python3.7/site-packages/ipykernel_launcher.py:19: DeprecationWarning: The multi-control multi-target gate has moved to the circuit library as of 0.14.0 and will not be useable as circuit method anymore. This method will be removed no earlier than 3 months after the release date. You should create the qiskit.circuit.library.MCMT or MCMTVChain circuits and add then to your circuit using append, extend, or compose.\n",
      "/opt/conda/lib/python3.7/site-packages/ipykernel_launcher.py:20: DeprecationWarning: The multi-control multi-target gate has moved to the circuit library as of 0.14.0 and will not be useable as circuit method anymore. This method will be removed no earlier than 3 months after the release date. You should create the qiskit.circuit.library.MCMT or MCMTVChain circuits and add then to your circuit using append, extend, or compose.\n",
      "/opt/conda/lib/python3.7/site-packages/ipykernel_launcher.py:7: DeprecationWarning: Using `backend_options` kwarg has been deprecated as of qiskit-aer 0.7.0 and will be removed no earlier than 3 months from that release date. Runtime backend options should now be added directly using kwargs for each option.\n",
      "  import sys\n"
     ]
    }
   ],
   "source": [
    "from qiskit import IBMQ, Aer, execute\n",
    "provider = IBMQ.load_account()\n",
    "\n",
    "backend = Aer.get_backend('qasm_simulator')\n",
    "lightsout4=[[1, 1, 1, 0, 0, 0, 1, 0, 0],[1, 0, 1, 0, 0, 0, 1, 1, 0],[1, 0, 1, 1, 1, 1, 0, 0, 1],[1, 0, 0, 0, 0, 0, 1, 0, 0]]\n",
    "qc = week2b_ans_func(lightsout4)\n",
    "job = execute(qc, backend=backend, shots=8000, seed_simulator=12345, backend_options={\"fusion_enable\":True})\n",
    "#job = execute(qc, backend=backend, shots=8192)\n",
    "result = job.result()\n",
    "count =result.get_counts()\n",
    "print(count)\n",
    "\n",
    "qc.draw(output='mpl')"
   ]
  },
  {
   "cell_type": "code",
   "execution_count": 6,
   "metadata": {
    "scrolled": true
   },
   "outputs": [
    {
     "name": "stdout",
     "output_type": "stream",
     "text": [
      "Running week2b_ans_func...\n"
     ]
    },
    {
     "name": "stderr",
     "output_type": "stream",
     "text": [
      "/opt/conda/lib/python3.7/site-packages/ipykernel_launcher.py:12: DeprecationWarning: The multi-control multi-target gate has moved to the circuit library as of 0.14.0 and will not be useable as circuit method anymore. This method will be removed no earlier than 3 months after the release date. You should create the qiskit.circuit.library.MCMT or MCMTVChain circuits and add then to your circuit using append, extend, or compose.\n",
      "  if sys.path[0] == '':\n",
      "/opt/conda/lib/python3.7/site-packages/ipykernel_launcher.py:13: DeprecationWarning: The multi-control multi-target gate has moved to the circuit library as of 0.14.0 and will not be useable as circuit method anymore. This method will be removed no earlier than 3 months after the release date. You should create the qiskit.circuit.library.MCMT or MCMTVChain circuits and add then to your circuit using append, extend, or compose.\n",
      "  del sys.path[0]\n",
      "/opt/conda/lib/python3.7/site-packages/ipykernel_launcher.py:14: DeprecationWarning: The multi-control multi-target gate has moved to the circuit library as of 0.14.0 and will not be useable as circuit method anymore. This method will be removed no earlier than 3 months after the release date. You should create the qiskit.circuit.library.MCMT or MCMTVChain circuits and add then to your circuit using append, extend, or compose.\n",
      "  \n",
      "/opt/conda/lib/python3.7/site-packages/ipykernel_launcher.py:15: DeprecationWarning: The multi-control multi-target gate has moved to the circuit library as of 0.14.0 and will not be useable as circuit method anymore. This method will be removed no earlier than 3 months after the release date. You should create the qiskit.circuit.library.MCMT or MCMTVChain circuits and add then to your circuit using append, extend, or compose.\n",
      "  from ipykernel import kernelapp as app\n",
      "/opt/conda/lib/python3.7/site-packages/ipykernel_launcher.py:16: DeprecationWarning: The multi-control multi-target gate has moved to the circuit library as of 0.14.0 and will not be useable as circuit method anymore. This method will be removed no earlier than 3 months after the release date. You should create the qiskit.circuit.library.MCMT or MCMTVChain circuits and add then to your circuit using append, extend, or compose.\n",
      "  app.launch_new_instance()\n",
      "/opt/conda/lib/python3.7/site-packages/ipykernel_launcher.py:17: DeprecationWarning: The multi-control multi-target gate has moved to the circuit library as of 0.14.0 and will not be useable as circuit method anymore. This method will be removed no earlier than 3 months after the release date. You should create the qiskit.circuit.library.MCMT or MCMTVChain circuits and add then to your circuit using append, extend, or compose.\n",
      "/opt/conda/lib/python3.7/site-packages/ipykernel_launcher.py:18: DeprecationWarning: The multi-control multi-target gate has moved to the circuit library as of 0.14.0 and will not be useable as circuit method anymore. This method will be removed no earlier than 3 months after the release date. You should create the qiskit.circuit.library.MCMT or MCMTVChain circuits and add then to your circuit using append, extend, or compose.\n",
      "/opt/conda/lib/python3.7/site-packages/ipykernel_launcher.py:19: DeprecationWarning: The multi-control multi-target gate has moved to the circuit library as of 0.14.0 and will not be useable as circuit method anymore. This method will be removed no earlier than 3 months after the release date. You should create the qiskit.circuit.library.MCMT or MCMTVChain circuits and add then to your circuit using append, extend, or compose.\n",
      "/opt/conda/lib/python3.7/site-packages/ipykernel_launcher.py:20: DeprecationWarning: The multi-control multi-target gate has moved to the circuit library as of 0.14.0 and will not be useable as circuit method anymore. This method will be removed no earlier than 3 months after the release date. You should create the qiskit.circuit.library.MCMT or MCMTVChain circuits and add then to your circuit using append, extend, or compose.\n"
     ]
    },
    {
     "name": "stdout",
     "output_type": "stream",
     "text": [
      "Computing cost...\n",
      "Starting experiments. Please wait...\n",
      "You may monitor the job (id: 5fb7e3555c506f001cc483b6) status and proceed to grading when it successfully completes.\n"
     ]
    },
    {
     "data": {
      "text/plain": [
       "{'01': 8000}"
      ]
     },
     "execution_count": 6,
     "metadata": {},
     "output_type": "execute_result"
    }
   ],
   "source": [
    "# Submission code\n",
    "from qc_grader import prepare_ex2b, grade_ex2b, submit_ex2b\n",
    "\n",
    "# Execute your circuit with following prepare_ex2b() function.\n",
    "# The prepare_ex2b() function works like the execute() function with only QuantumCircuit as an argument.\n",
    "job  =  prepare_ex2b(week2b_ans_func)\n",
    "\n",
    "result = job.result()\n",
    "count = result.get_counts()\n",
    "original_problem_set_counts = count[0]\n",
    "\n",
    "original_problem_set_counts\n",
    "# The bit string with the highest number of observations is treated as the solution."
   ]
  },
  {
   "cell_type": "code",
   "execution_count": 7,
   "metadata": {},
   "outputs": [
    {
     "name": "stdout",
     "output_type": "stream",
     "text": [
      "Grading your answer. Please wait...\n",
      "\n",
      "Congratulations 🎉! Your answer is correct.\n",
      "Your score is 900273.\n",
      "Feel free to submit your answer.\n"
     ]
    }
   ],
   "source": [
    "# Check your answer by executing following code.\n",
    "# The quantum cost of the QuantumCircuit is obtained as the score. The quantum cost is related to rank only in the third week.\n",
    "grade_ex2b(job)"
   ]
  },
  {
   "cell_type": "code",
   "execution_count": 8,
   "metadata": {},
   "outputs": [
    {
     "name": "stdout",
     "output_type": "stream",
     "text": [
      "Submitting your answer. Please wait...\n",
      "\n",
      "Success 🎉! Your answer has been submitted.\n",
      "There seems to be huge \"noise clusters\" interfering with Dr. Ryoko’s device. Can you please help?\n"
     ]
    }
   ],
   "source": [
    "# Submit your results by executing following code. You can submit as many times as you like during the period. \n",
    "submit_ex2b(job)"
   ]
  },
  {
   "cell_type": "code",
   "execution_count": 14,
   "metadata": {},
   "outputs": [
    {
     "name": "stderr",
     "output_type": "stream",
     "text": [
      "ibmqfactory.load_account:WARNING:2020-11-20 17:09:10,275: Credentials are already in use. The existing account in the session will be replaced.\n"
     ]
    },
    {
     "name": "stdout",
     "output_type": "stream",
     "text": [
      "[{'01': 8000}, {'00': 7995, '10': 3, '11': 2}]\n"
     ]
    }
   ],
   "source": [
    "# get results from previous jobs\n",
    "job_id = \"5fb7e3555c506f001cc483b6\"\n",
    "# load backend where the job was run\n",
    "from qiskit import IBMQ\n",
    "backend = IBMQ.load_account().get_backend('ibmq_qasm_simulator')\n",
    "job = backend.retrieve_job(job_id)\n",
    "# load result\n",
    "result = job.result()\n",
    "count = result.get_counts()\n",
    "print(count)"
   ]
  }
 ],
 "metadata": {
  "kernelspec": {
   "display_name": "Python 3",
   "language": "python",
   "name": "python3"
  },
  "language_info": {
   "codemirror_mode": {
    "name": "ipython",
    "version": 3
   },
   "file_extension": ".py",
   "mimetype": "text/x-python",
   "name": "python",
   "nbconvert_exporter": "python",
   "pygments_lexer": "ipython3",
   "version": "3.7.8"
  }
 },
 "nbformat": 4,
 "nbformat_minor": 2
}
